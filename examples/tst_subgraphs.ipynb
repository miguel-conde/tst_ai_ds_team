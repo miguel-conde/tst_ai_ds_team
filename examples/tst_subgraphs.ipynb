{
 "cells": [
  {
   "cell_type": "code",
   "execution_count": 69,
   "metadata": {},
   "outputs": [],
   "source": [
    "from langgraph.graph import MessagesState\n",
    "from langchain_core.messages import AIMessage, HumanMessage, SystemMessage, AnyMessage, RemoveMessage\n",
    "from langgraph.graph import START, END, StateGraph\n",
    "from langgraph.prebuilt import tools_condition, ToolNode\n",
    "from typing import List, Dict, Any\n",
    "\n",
    "from IPython.display import Image, display\n"
   ]
  },
  {
   "cell_type": "code",
   "execution_count": null,
   "metadata": {},
   "outputs": [],
   "source": [
    "class CalculatorSchema(MessagesState):\n",
    "    # messages: List[AnyMessage]\n",
    "    execution_environment: Dict\n",
    "    summary: str\n",
    "\n",
    "from langchain_openai import ChatOpenAI\n",
    "\n",
    "def null_node(state: CalculatorSchema):\n",
    "    return state\n",
    "\n",
    "llm = ChatOpenAI(model=\"gpt-4o\")\n",
    "\n",
    "def summarizer(state: CalculatorSchema):\n",
    "    \n",
    "    # First, we get any existing summary\n",
    "    summary = state.get(\"summary\", \"\")\n",
    "\n",
    "    # Create our summarization prompt \n",
    "    if summary:\n",
    "        \n",
    "        # A summary already exists\n",
    "        summary_message = (\n",
    "            f\"This is summary of the conversation to date: {summary}\\n\\n\"\n",
    "            \"Extend the summary by taking into account the new messages above:\"\n",
    "        )\n",
    "        \n",
    "    else:\n",
    "        summary_message = \"Create a summary of the conversation above:\"\n",
    "\n",
    "    # Add prompt to our history\n",
    "    messages = state[\"messages\"] + [HumanMessage(content=summary_message)]\n",
    "    response = llm.invoke(messages)\n",
    "    \n",
    "    # Delete all but the 2 most recent messages\n",
    "    delete_messages = [RemoveMessage(id=m.id) for m in state[\"messages\"][:-2]]\n",
    "    return {\"summary\": response.content, \"messages\": delete_messages}\n",
    "\n",
    "def should_summarize(state: CalculatorSchema):\n",
    "    \n",
    "    messages = state['messages']\n",
    "    \n",
    "    if len(messages) > 10:\n",
    "        print(\"Summarizing\")\n",
    "        return \"summarizer\"\n",
    "    else:\n",
    "        print(\"Not summarizing\")\n",
    "        return END"
   ]
  },
  {
   "cell_type": "code",
   "execution_count": 24,
   "metadata": {},
   "outputs": [],
   "source": [
    "builder_summ = StateGraph(CalculatorSchema)\n",
    "\n",
    "builder_summ.add_node(\"decide_summarizing\", null_node)\n",
    "builder_summ.add_node(\"summarizing\", summarizer)\n",
    "# builder.add_node(\"assistant\", assistant)\n",
    "\n",
    "\n",
    "builder_summ.add_edge(START, \"decide_summarizing\")\n",
    "builder_summ.add_conditional_edges(\"decide_summarizing\", should_summarize)\n",
    "builder_summ.add_edge(\"summarizing\", END)\n",
    "\n",
    "agent = builder_summ.compile()"
   ]
  },
  {
   "cell_type": "code",
   "execution_count": 4,
   "metadata": {},
   "outputs": [
    {
     "data": {
      "image/png": "[encoded data removed]",
      "text/plain": [
       "<IPython.core.display.Image object>"
      ]
     },
     "metadata": {},
     "output_type": "display_data"
    }
   ],
   "source": [
    "display(Image(agent.get_graph(xray=True).draw_mermaid_png()))"
   ]
  },
  {
   "cell_type": "markdown",
   "metadata": {},
   "source": [
    "# Calculator"
   ]
  },
  {
   "cell_type": "code",
   "execution_count": null,
   "metadata": {},
   "outputs": [],
   "source": [
    "# from langchain_openai import ChatOpenAI\n",
    "\n",
    "from arithmetics import add, subtract, multiply, divide, power, run_code, get_calculator_locals, get_calculator_globals, get_calculator_all, codeExecutor\n",
    "\n",
    "tools = [add, subtract, multiply, divide, power, run_code, get_calculator_locals, get_calculator_globals, get_calculator_all]\n",
    "\n",
    "# llm = ChatOpenAI(model=\"gpt-4o\")\n",
    "llm_with_tools = llm.bind_tools(tools)\n",
    "\n",
    "# System message\n",
    "sys_message = \"\"\"\n",
    "\"You are a helpful assistant tasked with performing arithmetic operations. \n",
    "You can use the following operations: addition, subtraction, multiplication, division, and power. \n",
    "\n",
    "You can also run tour own code. You can do so by:\n",
    "\n",
    "1 - Using 'run_code' \n",
    "2 - Then use `print_var` the times you need to get the variable(s) of your interest in order to fulfill the task or the user's request.\n",
    "\n",
    "\n",
    "As far as now, these are the local variables you can access:\n",
    "\n",
    "{locals}\n",
    "\n",
    "And these are the global variables you can access:\n",
    "\n",
    "{globals}\n",
    "\"\"\""
   ]
  },
  {
   "cell_type": "code",
   "execution_count": null,
   "metadata": {},
   "outputs": [],
   "source": [
    "def assistant(state: CalculatorSchema):\n",
    "    \n",
    "    sys_msg = SystemMessage(content=sys_message.format(locals = codeExecutor.get_locals(), globals = codeExecutor.get_globals()))\n",
    "    \n",
    "    return {\n",
    "       \"messages\": [llm_with_tools.invoke([sys_msg] + state[\"messages\"])],\n",
    "       \"execution_environment\": get_calculator_all(),\n",
    "       }\n",
    "    \n"
   ]
  },
  {
   "cell_type": "code",
   "execution_count": 61,
   "metadata": {},
   "outputs": [],
   "source": [
    "# Graph\n",
    "builder_calc = StateGraph(CalculatorSchema)\n",
    "\n",
    "builder_calc.add_node(\"assistant\", assistant)\n",
    "builder_calc.add_node(\"tools\", ToolNode(tools))\n",
    "\n",
    "builder_calc.add_edge(START, \"assistant\")\n",
    "builder_calc.add_conditional_edges(\n",
    "    \"assistant\",\n",
    "    tools_condition,\n",
    ")\n",
    "builder_calc.add_edge(\"tools\", \"assistant\")\n",
    "\n",
    "calculator_agent = builder_calc.compile()"
   ]
  },
  {
   "cell_type": "code",
   "execution_count": 62,
   "metadata": {},
   "outputs": [
    {
     "data": {
      "image/png": "[encoded data removed]",
      "text/plain": [
       "<langgraph.graph.state.CompiledStateGraph object at 0x73f2feb191c0>"
      ]
     },
     "execution_count": 62,
     "metadata": {},
     "output_type": "execute_result"
    }
   ],
   "source": [
    "calculator_agent"
   ]
  },
  {
   "cell_type": "markdown",
   "metadata": {},
   "source": [
    "## Graph composition"
   ]
  },
  {
   "cell_type": "code",
   "execution_count": 29,
   "metadata": {},
   "outputs": [],
   "source": [
    "from langgraph.checkpoint.memory import MemorySaver\n",
    "\n",
    "calc_builder = StateGraph(CalculatorSchema)\n",
    "calc_builder.add_node(\"calculator\", builder_calc.compile())\n",
    "calc_builder.add_node(\"summarizer\", builder_summ.compile())\n",
    "\n",
    "calc_builder.add_edge(START, \"calculator\")\n",
    "calc_builder.add_edge(\"calculator\", \"summarizer\")\n",
    "calc_builder.add_edge(\"summarizer\", END)\n",
    "\n",
    "memory = MemorySaver()\n",
    "\n",
    "calc_agent = calc_builder.compile(checkpointer=memory)"
   ]
  },
  {
   "cell_type": "code",
   "execution_count": 10,
   "metadata": {},
   "outputs": [
    {
     "data": {
      "image/png": "[encoded data removed]",
      "text/plain": [
       "<langgraph.graph.state.CompiledStateGraph object at 0x73f307590a70>"
      ]
     },
     "execution_count": 10,
     "metadata": {},
     "output_type": "execute_result"
    }
   ],
   "source": [
    "calc_agent"
   ]
  },
  {
   "cell_type": "code",
   "execution_count": 11,
   "metadata": {},
   "outputs": [
    {
     "data": {
      "image/png": "[encoded data removed]",
      "text/plain": [
       "<IPython.core.display.Image object>"
      ]
     },
     "metadata": {},
     "output_type": "display_data"
    }
   ],
   "source": [
    "# Setting xray to 1 will show the internal structure of the nested graph\n",
    "display(Image(calc_agent.get_graph(xray=1).draw_mermaid_png()))"
   ]
  },
  {
   "cell_type": "code",
   "execution_count": 30,
   "metadata": {},
   "outputs": [],
   "source": [
    "# Specify a thread\n",
    "config = {\"configurable\": {\"thread_id\": \"1\"}}"
   ]
  },
  {
   "cell_type": "code",
   "execution_count": 31,
   "metadata": {},
   "outputs": [
    {
     "name": "stdout",
     "output_type": "stream",
     "text": [
      "================================\u001b[1m Human Message \u001b[0m=================================\n",
      "\n",
      "Add 3 and 4.\n",
      "==================================\u001b[1m Ai Message \u001b[0m==================================\n",
      "\n",
      "The sum of 3 and 4 is 7.\n"
     ]
    }
   ],
   "source": [
    "# Specify an input\n",
    "messages = [HumanMessage(content=\"Add 3 and 4.\")]\n",
    "\n",
    "# Run\n",
    "messages = calculator_agent.invoke({\"messages\": messages}, config)\n",
    "for m in messages['messages']:\n",
    "    m.pretty_print()"
   ]
  },
  {
   "cell_type": "code",
   "execution_count": 32,
   "metadata": {},
   "outputs": [
    {
     "name": "stdout",
     "output_type": "stream",
     "text": [
      "================================\u001b[1m Human Message \u001b[0m=================================\n",
      "\n",
      "Multiply that by 2.\n",
      "==================================\u001b[1m Ai Message \u001b[0m==================================\n",
      "Tool Calls:\n",
      "  multiply (call_38UsoVBcFwFYkrA5trpbY6Aq)\n",
      " Call ID: call_38UsoVBcFwFYkrA5trpbY6Aq\n",
      "  Args:\n",
      "    a: 14\n",
      "    b: 2\n",
      "=================================\u001b[1m Tool Message \u001b[0m=================================\n",
      "Name: multiply\n",
      "\n",
      "28\n",
      "\n",
      "==================================\u001b[1m Ai Message \u001b[0m==================================\n",
      "\n",
      "The result of multiplying 14 by 2 is 28.\n"
     ]
    }
   ],
   "source": [
    "# Specify an input\n",
    "messages = [HumanMessage(content=\"Multiply that by 2.\")]\n",
    "\n",
    "# Run\n",
    "messages = calculator_agent.invoke({\"messages\": messages}, config)\n",
    "for m in messages['messages']:\n",
    "    m.pretty_print()"
   ]
  },
  {
   "cell_type": "code",
   "execution_count": 33,
   "metadata": {},
   "outputs": [
    {
     "data": {
      "text/plain": [
       "{'messages': [HumanMessage(content='Multiply that by 2.', additional_kwargs={}, response_metadata={}, id='02bbc6b6-6e84-4c4d-abf8-5a63c164cd71'),\n",
       "  AIMessage(content='', additional_kwargs={'tool_calls': [{'id': 'call_38UsoVBcFwFYkrA5trpbY6Aq', 'function': {'arguments': '{\"a\":14,\"b\":2}', 'name': 'multiply'}, 'type': 'function'}], 'refusal': None}, response_metadata={'token_usage': {'completion_tokens': 18, 'prompt_tokens': 2754, 'total_tokens': 2772, 'completion_tokens_details': {'accepted_prediction_tokens': 0, 'audio_tokens': 0, 'reasoning_tokens': 0, 'rejected_prediction_tokens': 0}, 'prompt_tokens_details': {'audio_tokens': 0, 'cached_tokens': 2688}}, 'model_name': 'gpt-4o-2024-08-06', 'system_fingerprint': 'fp_523b9b6e5f', 'finish_reason': 'tool_calls', 'logprobs': None}, id='run-942efbad-77bb-4d56-9b9c-cebfa4fe6282-0', tool_calls=[{'name': 'multiply', 'args': {'a': 14, 'b': 2}, 'id': 'call_38UsoVBcFwFYkrA5trpbY6Aq', 'type': 'tool_call'}], usage_metadata={'input_tokens': 2754, 'output_tokens': 18, 'total_tokens': 2772, 'input_token_details': {'audio': 0, 'cache_read': 2688}, 'output_token_details': {'audio': 0, 'reasoning': 0}}),\n",
       "  ToolMessage(content='28\\n', name='multiply', id='6cb45c69-4d3c-427d-9af1-afca55920850', tool_call_id='call_38UsoVBcFwFYkrA5trpbY6Aq'),\n",
       "  AIMessage(content='The result of multiplying 14 by 2 is 28.', additional_kwargs={'refusal': None}, response_metadata={'token_usage': {'completion_tokens': 15, 'prompt_tokens': 2780, 'total_tokens': 2795, 'completion_tokens_details': {'accepted_prediction_tokens': 0, 'audio_tokens': 0, 'reasoning_tokens': 0, 'rejected_prediction_tokens': 0}, 'prompt_tokens_details': {'audio_tokens': 0, 'cached_tokens': 0}}, 'model_name': 'gpt-4o-2024-08-06', 'system_fingerprint': 'fp_523b9b6e5f', 'finish_reason': 'stop', 'logprobs': None}, id='run-53c1f6fa-cb6e-4eb4-ae1a-f879acaf0e21-0', usage_metadata={'input_tokens': 2780, 'output_tokens': 15, 'total_tokens': 2795, 'input_token_details': {'audio': 0, 'cache_read': 0}, 'output_token_details': {'audio': 0, 'reasoning': 0}})],\n",
       " 'execution_environment': ({'result': '28\\n'}, {})}"
      ]
     },
     "execution_count": 33,
     "metadata": {},
     "output_type": "execute_result"
    }
   ],
   "source": [
    "messages"
   ]
  },
  {
   "cell_type": "code",
   "execution_count": 39,
   "metadata": {},
   "outputs": [
    {
     "name": "stdout",
     "output_type": "stream",
     "text": [
      "==================================\u001b[1m Ai Message \u001b[0m==================================\n",
      "\n",
      "I am an AI assistant and I don't have a personal name like a human does. However, you can refer to me as \"Assistant\" or \"AI\" if you like!\n"
     ]
    }
   ],
   "source": [
    "for chunk in calculator_agent.stream({\"messages\": [HumanMessage(content=\"Want to know your name\")]}, config, stream_mode=\"updates\"):\n",
    "    chunk['assistant']['messages'][0].pretty_print()"
   ]
  },
  {
   "cell_type": "code",
   "execution_count": 40,
   "metadata": {},
   "outputs": [
    {
     "name": "stdout",
     "output_type": "stream",
     "text": [
      "================================\u001b[1m Human Message \u001b[0m=================================\n",
      "\n",
      "What's 3 power 4?\n",
      "================================\u001b[1m Human Message \u001b[0m=================================\n",
      "\n",
      "What's 3 power 4?\n",
      "==================================\u001b[1m Ai Message \u001b[0m==================================\n",
      "Tool Calls:\n",
      "  power (call_jdPvRorht9czDgkhDaaRA0Qn)\n",
      " Call ID: call_jdPvRorht9czDgkhDaaRA0Qn\n",
      "  Args:\n",
      "    a: 3\n",
      "    b: 4\n",
      "================================\u001b[1m Human Message \u001b[0m=================================\n",
      "\n",
      "What's 3 power 4?\n",
      "==================================\u001b[1m Ai Message \u001b[0m==================================\n",
      "Tool Calls:\n",
      "  power (call_jdPvRorht9czDgkhDaaRA0Qn)\n",
      " Call ID: call_jdPvRorht9czDgkhDaaRA0Qn\n",
      "  Args:\n",
      "    a: 3\n",
      "    b: 4\n",
      "=================================\u001b[1m Tool Message \u001b[0m=================================\n",
      "Name: power\n",
      "\n",
      "81\n",
      "\n",
      "================================\u001b[1m Human Message \u001b[0m=================================\n",
      "\n",
      "What's 3 power 4?\n",
      "==================================\u001b[1m Ai Message \u001b[0m==================================\n",
      "Tool Calls:\n",
      "  power (call_jdPvRorht9czDgkhDaaRA0Qn)\n",
      " Call ID: call_jdPvRorht9czDgkhDaaRA0Qn\n",
      "  Args:\n",
      "    a: 3\n",
      "    b: 4\n",
      "=================================\u001b[1m Tool Message \u001b[0m=================================\n",
      "Name: power\n",
      "\n",
      "81\n",
      "\n",
      "==================================\u001b[1m Ai Message \u001b[0m==================================\n",
      "\n",
      "3 to the power of 4 is 81.\n"
     ]
    }
   ],
   "source": [
    "input_message = HumanMessage(content=\"What's 3 power 4?\")   \n",
    "for event in calculator_agent.stream({\"messages\": [input_message]}, config, stream_mode=\"values\"):\n",
    "    for m in event['messages']:\n",
    "        m.pretty_print()"
   ]
  },
  {
   "cell_type": "code",
   "execution_count": 41,
   "metadata": {},
   "outputs": [
    {
     "name": "stdout",
     "output_type": "stream",
     "text": [
      "================================\u001b[1m Human Message \u001b[0m=================================\n",
      "\n",
      "Tell me the content of your execution environment\n",
      "==================================\u001b[1m Ai Message \u001b[0m==================================\n",
      "Tool Calls:\n",
      "  get_calculator_all (call_HJuUX9PTsZT9ZTghN0P12Rc0)\n",
      " Call ID: call_HJuUX9PTsZT9ZTghN0P12Rc0\n",
      "  Args:\n",
      "=================================\u001b[1m Tool Message \u001b[0m=================================\n",
      "Name: get_calculator_all\n",
      "\n",
      "[{\"result\": \"81\\n\"}, {}]\n",
      "==================================\u001b[1m Ai Message \u001b[0m==================================\n",
      "\n",
      "The content of the execution environment includes the local variable `result` with a value of 81. There are no additional global variables defined in the current environment.\n"
     ]
    }
   ],
   "source": [
    "# Specify an input\n",
    "messages = [HumanMessage(content=\"Tell me the content of your execution environment\")]\n",
    "\n",
    "# Run\n",
    "messages = calculator_agent.invoke({\"messages\": messages}, config)\n",
    "for m in messages['messages']:\n",
    "    m.pretty_print()"
   ]
  },
  {
   "cell_type": "code",
   "execution_count": 49,
   "metadata": {},
   "outputs": [],
   "source": [
    "def node1(state: CalculatorSchema):\n",
    "    return state\n",
    "\n",
    "def node2(state: CalculatorSchema):\n",
    "    return state\n",
    "\n",
    "null_builder = StateGraph(CalculatorSchema)\n",
    "null_builder.add_node(\"node1\", node1)\n",
    "null_builder.add_node(\"node2\", node2)\n",
    "\n",
    "null_builder.add_edge(START, \"node1\")\n",
    "null_builder.add_edge(\"node1\", \"node2\")\n",
    "null_builder.add_edge(\"node2\", END)\n",
    "\n",
    "null_agent = null_builder.compile()"
   ]
  },
  {
   "cell_type": "code",
   "execution_count": 50,
   "metadata": {},
   "outputs": [],
   "source": [
    "kk_builder = StateGraph(CalculatorSchema)\n",
    "kk_builder.add_node(\"summarizer\", null_builder.compile())\n",
    "\n",
    "kk_builder.add_edge(START, \"summarizer\")\n",
    "kk_builder.add_edge(\"summarizer\", END)\n",
    "\n",
    "kk_agent = kk_builder.compile()"
   ]
  },
  {
   "cell_type": "code",
   "execution_count": 51,
   "metadata": {},
   "outputs": [
    {
     "data": {
      "image/png": "[encoded data removed]",
      "text/plain": [
       "<IPython.core.display.Image object>"
      ]
     },
     "metadata": {},
     "output_type": "display_data"
    }
   ],
   "source": [
    "display(Image(kk_agent.get_graph(xray=1).draw_mermaid_png()))"
   ]
  },
  {
   "cell_type": "code",
   "execution_count": 65,
   "metadata": {},
   "outputs": [],
   "source": [
    "# Graph\n",
    "builder_calc = StateGraph(CalculatorSchema)\n",
    "\n",
    "builder_calc.add_node(\"assistant\", assistant)\n",
    "builder_calc.add_node(\"tools\", ToolNode(tools))\n",
    "builder_calc.add_node(\"summarizer\", kk_agent)\n",
    "\n",
    "builder_calc.add_edge(START, \"assistant\")\n",
    "builder_calc.add_conditional_edges(\n",
    "    \"assistant\",\n",
    "    tools_condition,\n",
    ")\n",
    "builder_calc.add_conditional_edges(\n",
    "    \"assistant\",\n",
    "    should_summarize,\n",
    ")\n",
    "builder_calc.add_edge(\"tools\", \"assistant\")\n",
    "builder_calc.add_edge(\"summarizer\", END)\n",
    "\n",
    "calculator_agent = builder_calc.compile()"
   ]
  },
  {
   "cell_type": "code",
   "execution_count": 66,
   "metadata": {},
   "outputs": [
    {
     "data": {
      "image/png": "[encoded data removed]",
      "text/plain": [
       "<IPython.core.display.Image object>"
      ]
     },
     "metadata": {},
     "output_type": "display_data"
    }
   ],
   "source": [
    "display(Image(calculator_agent.get_graph(xray=1).draw_mermaid_png()))"
   ]
  },
  {
   "cell_type": "code",
   "execution_count": 67,
   "metadata": {},
   "outputs": [],
   "source": [
    "# Specify a thread\n",
    "config = {\"configurable\": {\"thread_id\": \"1\"}}"
   ]
  },
  {
   "cell_type": "code",
   "execution_count": 68,
   "metadata": {},
   "outputs": [
    {
     "name": "stdout",
     "output_type": "stream",
     "text": [
      "Not summarizing\n",
      "Not summarizing\n",
      "================================\u001b[1m Human Message \u001b[0m=================================\n",
      "\n",
      "Add 3 and 4.\n",
      "==================================\u001b[1m Ai Message \u001b[0m==================================\n",
      "Tool Calls:\n",
      "  add (call_fXcos3yolhLm2AuEShCJS0Wf)\n",
      " Call ID: call_fXcos3yolhLm2AuEShCJS0Wf\n",
      "  Args:\n",
      "    a: 3\n",
      "    b: 4\n",
      "=================================\u001b[1m Tool Message \u001b[0m=================================\n",
      "Name: add\n",
      "\n",
      "7\n",
      "\n",
      "==================================\u001b[1m Ai Message \u001b[0m==================================\n",
      "\n",
      "The result of adding 3 and 4 is 7.\n"
     ]
    }
   ],
   "source": [
    "# Specify an input\n",
    "messages = [HumanMessage(content=\"Add 3 and 4.\")]\n",
    "\n",
    "# Run\n",
    "messages = calculator_agent.invoke({\"messages\": messages}, config)\n",
    "for m in messages['messages']:\n",
    "    m.pretty_print()"
   ]
  }
 ],
 "metadata": {
  "kernelspec": {
   "display_name": ".venv",
   "language": "python",
   "name": "python3"
  },
  "language_info": {
   "codemirror_mode": {
    "name": "ipython",
    "version": 3
   },
   "file_extension": ".py",
   "mimetype": "text/x-python",
   "name": "python",
   "nbconvert_exporter": "python",
   "pygments_lexer": "ipython3",
   "version": "3.12.7"
  }
 },
 "nbformat": 4,
 "nbformat_minor": 2
}
